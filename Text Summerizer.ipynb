{
 "cells": [
  {
   "cell_type": "code",
   "execution_count": 29,
   "id": "a5095833",
   "metadata": {},
   "outputs": [],
   "source": [
    "article_text=\"\"\"\n",
    "King Krishnadevaraya loved horses and had a collection of some of the best breed of horses in his stable. Once a horse trader from Arabia came to the court of Krishnadevaraya and told him that he had some very good breed of Arabian horses for sale. He invited the King to see the horse that he had brought with him and told him that if he liked it, he would send for the other horses too.\n",
    "\n",
    "The King loved the horse and told him that he would like all his horses. The King paid him 5000 gold coins as an advance, and the trader promised that he would return with the other horses in 2 days before leaving.\n",
    "\n",
    "Two days passed by, then two weeks and still, the trader did not return. The King got more and more anxious. One evening, to relax his mind, he went to take a stroll in the garden. There he saw Tenali Raman writing down something on a paper. The King went up to him and asked what he was writing. He did not get an answer. The King further quizzed him. Tenali then looked up and told the King that he was writing down the names of the biggest fools of the Vijayanagar Kingdom.\n",
    "\n",
    "The King took the paper from him and saw his name written at the top. He was furious with Tenali and asked for an explanation. To that Tenali replied that any man who gives away 5000 gold coins to a total stranger is a fool. The King then asked Tenali what if he returned with the horses; to which Tenali said then, in that case, that man would be a fool. He would then write down the trader’s name instead of the king’s.\n",
    "\n",
    "Moral: Do not believe in strangers blindly. The same goes when you do your business with anyone.\"\"\""
   ]
  },
  {
   "cell_type": "markdown",
   "id": "79ce116f",
   "metadata": {},
   "source": [
    "# Importing Dependencies"
   ]
  },
  {
   "cell_type": "code",
   "execution_count": 30,
   "id": "7ed15641",
   "metadata": {},
   "outputs": [],
   "source": [
    "import re,nltk\n",
    "from nltk.corpus import stopwords"
   ]
  },
  {
   "cell_type": "code",
   "execution_count": 31,
   "id": "7f2396d0",
   "metadata": {},
   "outputs": [
    {
     "data": {
      "text/plain": [
       "'\\nking krishnadevaraya loved horses and had a collection of some of the best breed of horses in his stable. once a horse trader from arabia came to the court of krishnadevaraya and told him that he had some very good breed of arabian horses for sale. he invited the king to see the horse that he had brought with him and told him that if he liked it, he would send for the other horses too.\\n\\nthe king loved the horse and told him that he would like all his horses. the king paid him 5000 gold coins as an advance, and the trader promised that he would return with the other horses in 2 days before leaving.\\n\\ntwo days passed by, then two weeks and still, the trader did not return. the king got more and more anxious. one evening, to relax his mind, he went to take a stroll in the garden. there he saw tenali raman writing down something on a paper. the king went up to him and asked what he was writing. he did not get an answer. the king further quizzed him. tenali then looked up and told the king that he was writing down the names of the biggest fools of the vijayanagar kingdom.\\n\\nthe king took the paper from him and saw his name written at the top. he was furious with tenali and asked for an explanation. to that tenali replied that any man who gives away 5000 gold coins to a total stranger is a fool. the king then asked tenali what if he returned with the horses; to which tenali said then, in that case, that man would be a fool. he would then write down the trader’s name instead of the king’s.\\n\\nmoral: do not believe in strangers blindly. the same goes when you do your business with anyone.'"
      ]
     },
     "execution_count": 31,
     "metadata": {},
     "output_type": "execute_result"
    }
   ],
   "source": [
    "article_text=article_text.lower()\n",
    "article_text"
   ]
  },
  {
   "cell_type": "code",
   "execution_count": 32,
   "id": "bfe2007b",
   "metadata": {},
   "outputs": [
    {
     "data": {
      "text/plain": [
       "' king krishnadevaraya loved horses and had a collection of some of the best breed of horses in his stable. once a horse trader from arabia came to the court of krishnadevaraya and told him that he had some very good breed of arabian horses for sale. he invited the king to see the horse that he had brought with him and told him that if he liked it he would send for the other horses too. the king loved the horse and told him that he would like all his horses. the king paid him gold coins as an advance and the trader promised that he would return with the other horses in days before leaving. two days passed by then two weeks and still the trader did not return. the king got more and more anxious. one evening to relax his mind he went to take a stroll in the garden. there he saw tenali raman writing down something on a paper. the king went up to him and asked what he was writing. he did not get an answer. the king further quizzed him. tenali then looked up and told the king that he was writing down the names of the biggest fools of the vijayanagar kingdom. the king took the paper from him and saw his name written at the top. he was furious with tenali and asked for an explanation. to that tenali replied that any man who gives away gold coins to a total stranger is a fool. the king then asked tenali what if he returned with the horses to which tenali said then in that case that man would be a fool. he would then write down the trader s name instead of the king s. moral do not believe in strangers blindly. the same goes when you do your business with anyone.'"
      ]
     },
     "execution_count": 32,
     "metadata": {},
     "output_type": "execute_result"
    }
   ],
   "source": [
    "#Remove spaces, punctuations,numbers\n",
    "article_text=re.sub('[^.a-zA-Z]',\" \",article_text)\n",
    "article_text=re.sub('\\s+',\" \",article_text)\n",
    "article_text"
   ]
  },
  {
   "cell_type": "code",
   "execution_count": 33,
   "id": "fc8c6f6d",
   "metadata": {},
   "outputs": [
    {
     "data": {
      "text/plain": [
       "[' king krishnadevaraya loved horses and had a collection of some of the best breed of horses in his stable.',\n",
       " 'once a horse trader from arabia came to the court of krishnadevaraya and told him that he had some very good breed of arabian horses for sale.',\n",
       " 'he invited the king to see the horse that he had brought with him and told him that if he liked it he would send for the other horses too.',\n",
       " 'the king loved the horse and told him that he would like all his horses.',\n",
       " 'the king paid him gold coins as an advance and the trader promised that he would return with the other horses in days before leaving.',\n",
       " 'two days passed by then two weeks and still the trader did not return.',\n",
       " 'the king got more and more anxious.',\n",
       " 'one evening to relax his mind he went to take a stroll in the garden.',\n",
       " 'there he saw tenali raman writing down something on a paper.',\n",
       " 'the king went up to him and asked what he was writing.',\n",
       " 'he did not get an answer.',\n",
       " 'the king further quizzed him.',\n",
       " 'tenali then looked up and told the king that he was writing down the names of the biggest fools of the vijayanagar kingdom.',\n",
       " 'the king took the paper from him and saw his name written at the top.',\n",
       " 'he was furious with tenali and asked for an explanation.',\n",
       " 'to that tenali replied that any man who gives away gold coins to a total stranger is a fool.',\n",
       " 'the king then asked tenali what if he returned with the horses to which tenali said then in that case that man would be a fool.',\n",
       " 'he would then write down the trader s name instead of the king s. moral do not believe in strangers blindly.',\n",
       " 'the same goes when you do your business with anyone.']"
      ]
     },
     "execution_count": 33,
     "metadata": {},
     "output_type": "execute_result"
    }
   ],
   "source": [
    "#Split into sentence list\n",
    "sent_list=nltk.sent_tokenize(article_text)\n",
    "sent_list"
   ]
  },
  {
   "cell_type": "code",
   "execution_count": 34,
   "id": "7fe7fcc5",
   "metadata": {},
   "outputs": [],
   "source": [
    "stopwords=nltk.corpus.stopwords.words(\"english\")\n",
    "\n",
    "word_freq={}\n",
    "for word in nltk.word_tokenize(article_text):\n",
    "    if word not in stopwords:\n",
    "        if word not in word_freq:\n",
    "            word_freq[word]=1\n",
    "        else:\n",
    "             word_freq[word]+=1"
   ]
  },
  {
   "cell_type": "code",
   "execution_count": 35,
   "id": "feb73441",
   "metadata": {},
   "outputs": [],
   "source": [
    "max_freq=max(word_freq.values())\n",
    "\n",
    "for word in word_freq:\n",
    "    word_freq[word]=word_freq[word]/max_freq"
   ]
  },
  {
   "cell_type": "code",
   "execution_count": 52,
   "id": "c1e11465",
   "metadata": {},
   "outputs": [
    {
     "data": {
      "text/plain": [
       "{' king krishnadevaraya loved horses and had a collection of some of the best breed of horses in his stable.': 2.789473684210526,\n",
       " 'once a horse trader from arabia came to the court of krishnadevaraya and told him that he had some very good breed of arabian horses for sale.': 2.473684210526316,\n",
       " 'the king loved the horse and told him that he would like all his horses.': 2.7368421052631575,\n",
       " 'the king paid him gold coins as an advance and the trader promised that he would return with the other horses in days before leaving.': 3.0526315789473686,\n",
       " 'two days passed by then two weeks and still the trader did not return.': 1.789473684210526,\n",
       " 'the king got more and more anxious.': 1.6842105263157894,\n",
       " 'one evening to relax his mind he went to take a stroll in the garden.': 1.4736842105263157,\n",
       " 'there he saw tenali raman writing down something on a paper.': 1.789473684210526,\n",
       " 'the king went up to him and asked what he was writing.': 2.0,\n",
       " 'he did not get an answer.': 1.1052631578947367,\n",
       " 'the king further quizzed him.': 1.631578947368421,\n",
       " 'tenali then looked up and told the king that he was writing down the names of the biggest fools of the vijayanagar kingdom.': 2.578947368421052,\n",
       " 'the king took the paper from him and saw his name written at the top.': 2.052631578947368,\n",
       " 'he was furious with tenali and asked for an explanation.': 1.5789473684210527,\n",
       " 'to that tenali replied that any man who gives away gold coins to a total stranger is a fool.': 2.0,\n",
       " 'the king then asked tenali what if he returned with the horses to which tenali said then in that case that man would be a fool.': 3.3684210526315788,\n",
       " 'he would then write down the trader s name instead of the king s. moral do not believe in strangers blindly.': 2.526315789473684,\n",
       " 'the same goes when you do your business with anyone.': 1.1578947368421053}"
      ]
     },
     "execution_count": 52,
     "metadata": {},
     "output_type": "execute_result"
    }
   ],
   "source": [
    "#Calculate sentence score\n",
    "sent_score={}\n",
    "\n",
    "for sent in sent_list:\n",
    "    for word in nltk.word_tokenize(sent):\n",
    "         if word in word_freq and len(sent.split(' ')) < 30:\n",
    "                if sent not in sent_score:\n",
    "                    sent_score[sent]=word_freq[word]\n",
    "                else:\n",
    "                    sent_score[sent]+=word_freq[word]\n",
    "sent_score                   "
   ]
  },
  {
   "cell_type": "code",
   "execution_count": 37,
   "id": "c455dfee",
   "metadata": {},
   "outputs": [],
   "source": [
    "#Get top 5 sentences"
   ]
  },
  {
   "cell_type": "code",
   "execution_count": 71,
   "id": "3e6ffcd4",
   "metadata": {},
   "outputs": [
    {
     "data": {
      "text/plain": [
       "array([0], dtype=int64)"
      ]
     },
     "execution_count": 71,
     "metadata": {},
     "output_type": "execute_result"
    }
   ],
   "source": [
    "#sent_score(sorted(sent_score.items(), key=lambda item: (item[1],item[0])))\n",
    "import numpy as np\n",
    "np.argsort(sent_score.values())"
   ]
  },
  {
   "cell_type": "code",
   "execution_count": 63,
   "id": "77a489da",
   "metadata": {},
   "outputs": [
    {
     "ename": "KeyError",
     "evalue": "'he invited the king to see the horse that he had brought with him and told him that if he liked it he would send for the other horses too.'",
     "output_type": "error",
     "traceback": [
      "\u001b[1;31m---------------------------------------------------------------------------\u001b[0m",
      "\u001b[1;31mKeyError\u001b[0m                                  Traceback (most recent call last)",
      "\u001b[1;32m<ipython-input-63-b8c79c57f90f>\u001b[0m in \u001b[0;36m<module>\u001b[1;34m\u001b[0m\n\u001b[1;32m----> 1\u001b[1;33m \u001b[0mranked_sentence\u001b[0m \u001b[1;33m=\u001b[0m \u001b[0msorted\u001b[0m\u001b[1;33m(\u001b[0m\u001b[1;33m(\u001b[0m\u001b[1;33m(\u001b[0m\u001b[0msent_score\u001b[0m\u001b[1;33m[\u001b[0m\u001b[0ms\u001b[0m\u001b[1;33m]\u001b[0m\u001b[1;33m)\u001b[0m \u001b[1;32mfor\u001b[0m \u001b[0mi\u001b[0m\u001b[1;33m,\u001b[0m\u001b[0ms\u001b[0m \u001b[1;32min\u001b[0m \u001b[0menumerate\u001b[0m\u001b[1;33m(\u001b[0m\u001b[0msent_list\u001b[0m\u001b[1;33m)\u001b[0m\u001b[1;33m)\u001b[0m\u001b[1;33m,\u001b[0m \u001b[0mreverse\u001b[0m\u001b[1;33m=\u001b[0m\u001b[1;32mTrue\u001b[0m\u001b[1;33m)\u001b[0m\u001b[1;33m\u001b[0m\u001b[1;33m\u001b[0m\u001b[0m\n\u001b[0m\u001b[0;32m      2\u001b[0m \u001b[0mprint\u001b[0m\u001b[1;33m(\u001b[0m\u001b[1;34m\"Indexes of top ranked_sentence order are \"\u001b[0m\u001b[1;33m,\u001b[0m \u001b[0mranked_sentence\u001b[0m\u001b[1;33m)\u001b[0m\u001b[1;33m\u001b[0m\u001b[1;33m\u001b[0m\u001b[0m\n\u001b[0;32m      3\u001b[0m \u001b[1;33m\u001b[0m\u001b[0m\n\u001b[0;32m      4\u001b[0m \u001b[1;32mfor\u001b[0m \u001b[0mi\u001b[0m \u001b[1;32min\u001b[0m \u001b[0mrange\u001b[0m\u001b[1;33m(\u001b[0m\u001b[0mtop_n\u001b[0m\u001b[1;33m)\u001b[0m\u001b[1;33m:\u001b[0m\u001b[1;33m\u001b[0m\u001b[1;33m\u001b[0m\u001b[0m\n\u001b[0;32m      5\u001b[0m         \u001b[0msummarize_text\u001b[0m\u001b[1;33m.\u001b[0m\u001b[0mappend\u001b[0m\u001b[1;33m(\u001b[0m\u001b[1;34m\" \"\u001b[0m\u001b[1;33m.\u001b[0m\u001b[0mjoin\u001b[0m\u001b[1;33m(\u001b[0m\u001b[0mranked_sentence\u001b[0m\u001b[1;33m[\u001b[0m\u001b[0mi\u001b[0m\u001b[1;33m]\u001b[0m\u001b[1;33m[\u001b[0m\u001b[1;36m1\u001b[0m\u001b[1;33m]\u001b[0m\u001b[1;33m)\u001b[0m\u001b[1;33m)\u001b[0m\u001b[1;33m\u001b[0m\u001b[1;33m\u001b[0m\u001b[0m\n",
      "\u001b[1;32m<ipython-input-63-b8c79c57f90f>\u001b[0m in \u001b[0;36m<genexpr>\u001b[1;34m(.0)\u001b[0m\n\u001b[1;32m----> 1\u001b[1;33m \u001b[0mranked_sentence\u001b[0m \u001b[1;33m=\u001b[0m \u001b[0msorted\u001b[0m\u001b[1;33m(\u001b[0m\u001b[1;33m(\u001b[0m\u001b[1;33m(\u001b[0m\u001b[0msent_score\u001b[0m\u001b[1;33m[\u001b[0m\u001b[0ms\u001b[0m\u001b[1;33m]\u001b[0m\u001b[1;33m)\u001b[0m \u001b[1;32mfor\u001b[0m \u001b[0mi\u001b[0m\u001b[1;33m,\u001b[0m\u001b[0ms\u001b[0m \u001b[1;32min\u001b[0m \u001b[0menumerate\u001b[0m\u001b[1;33m(\u001b[0m\u001b[0msent_list\u001b[0m\u001b[1;33m)\u001b[0m\u001b[1;33m)\u001b[0m\u001b[1;33m,\u001b[0m \u001b[0mreverse\u001b[0m\u001b[1;33m=\u001b[0m\u001b[1;32mTrue\u001b[0m\u001b[1;33m)\u001b[0m\u001b[1;33m\u001b[0m\u001b[1;33m\u001b[0m\u001b[0m\n\u001b[0m\u001b[0;32m      2\u001b[0m \u001b[0mprint\u001b[0m\u001b[1;33m(\u001b[0m\u001b[1;34m\"Indexes of top ranked_sentence order are \"\u001b[0m\u001b[1;33m,\u001b[0m \u001b[0mranked_sentence\u001b[0m\u001b[1;33m)\u001b[0m\u001b[1;33m\u001b[0m\u001b[1;33m\u001b[0m\u001b[0m\n\u001b[0;32m      3\u001b[0m \u001b[1;33m\u001b[0m\u001b[0m\n\u001b[0;32m      4\u001b[0m \u001b[1;32mfor\u001b[0m \u001b[0mi\u001b[0m \u001b[1;32min\u001b[0m \u001b[0mrange\u001b[0m\u001b[1;33m(\u001b[0m\u001b[0mtop_n\u001b[0m\u001b[1;33m)\u001b[0m\u001b[1;33m:\u001b[0m\u001b[1;33m\u001b[0m\u001b[1;33m\u001b[0m\u001b[0m\n\u001b[0;32m      5\u001b[0m         \u001b[0msummarize_text\u001b[0m\u001b[1;33m.\u001b[0m\u001b[0mappend\u001b[0m\u001b[1;33m(\u001b[0m\u001b[1;34m\" \"\u001b[0m\u001b[1;33m.\u001b[0m\u001b[0mjoin\u001b[0m\u001b[1;33m(\u001b[0m\u001b[0mranked_sentence\u001b[0m\u001b[1;33m[\u001b[0m\u001b[0mi\u001b[0m\u001b[1;33m]\u001b[0m\u001b[1;33m[\u001b[0m\u001b[1;36m1\u001b[0m\u001b[1;33m]\u001b[0m\u001b[1;33m)\u001b[0m\u001b[1;33m)\u001b[0m\u001b[1;33m\u001b[0m\u001b[1;33m\u001b[0m\u001b[0m\n",
      "\u001b[1;31mKeyError\u001b[0m: 'he invited the king to see the horse that he had brought with him and told him that if he liked it he would send for the other horses too.'"
     ]
    }
   ],
   "source": [
    "ranked_sentence = sorted(((sent_score[s]) for i,s in enumerate(sent_list)), reverse=True)    \n",
    "print(\"Indexes of top ranked_sentence order are \", ranked_sentence)\n",
    "\n",
    "for i in range(top_n):\n",
    "        summarize_text.append(\" \".join(ranked_sentence[i][1]))\n",
    "\n",
    "    # Step 5 - Offcourse, output the summarize texr\n",
    "print(\"\\nSUMMARIZED TEXT: \\n\\n\", \". \".join(summarize_text))\n"
   ]
  },
  {
   "cell_type": "code",
   "execution_count": 57,
   "id": "9df326fb",
   "metadata": {},
   "outputs": [
    {
     "ename": "KeyError",
     "evalue": "'he invited the king to see the horse that he had brought with him and told him that if he liked it he would send for the other horses too.'",
     "output_type": "error",
     "traceback": [
      "\u001b[1;31m---------------------------------------------------------------------------\u001b[0m",
      "\u001b[1;31mKeyError\u001b[0m                                  Traceback (most recent call last)",
      "\u001b[1;32m<ipython-input-57-2c50aa8869b5>\u001b[0m in \u001b[0;36m<module>\u001b[1;34m\u001b[0m\n\u001b[0;32m      2\u001b[0m \u001b[0msummary\u001b[0m\u001b[1;33m=\u001b[0m\u001b[1;34m''\u001b[0m\u001b[1;33m\u001b[0m\u001b[1;33m\u001b[0m\u001b[0m\n\u001b[0;32m      3\u001b[0m \u001b[1;32mfor\u001b[0m \u001b[0msentence\u001b[0m \u001b[1;32min\u001b[0m \u001b[0msent_list\u001b[0m\u001b[1;33m:\u001b[0m\u001b[1;33m\u001b[0m\u001b[1;33m\u001b[0m\u001b[0m\n\u001b[1;32m----> 4\u001b[1;33m     \u001b[0msumValues\u001b[0m\u001b[1;33m+=\u001b[0m\u001b[0msent_score\u001b[0m\u001b[1;33m[\u001b[0m\u001b[0msentence\u001b[0m\u001b[1;33m]\u001b[0m\u001b[1;33m\u001b[0m\u001b[1;33m\u001b[0m\u001b[0m\n\u001b[0m\u001b[0;32m      5\u001b[0m     \u001b[1;32mglobal\u001b[0m \u001b[0maverage\u001b[0m\u001b[1;33m\u001b[0m\u001b[1;33m\u001b[0m\u001b[0m\n\u001b[0;32m      6\u001b[0m     \u001b[0maverage\u001b[0m \u001b[1;33m=\u001b[0m \u001b[0mint\u001b[0m\u001b[1;33m(\u001b[0m\u001b[0msumValues\u001b[0m\u001b[1;33m/\u001b[0m\u001b[0mlen\u001b[0m\u001b[1;33m(\u001b[0m\u001b[0msent_score\u001b[0m\u001b[1;33m)\u001b[0m\u001b[1;33m)\u001b[0m\u001b[1;33m\u001b[0m\u001b[1;33m\u001b[0m\u001b[0m\n",
      "\u001b[1;31mKeyError\u001b[0m: 'he invited the king to see the horse that he had brought with him and told him that if he liked it he would send for the other horses too.'"
     ]
    }
   ],
   "source": [
    "sumValues=0\n",
    "summary=''\n",
    "for sentence in sent_list:\n",
    "    sumValues+=sent_score[sentence]\n",
    "    global average\n",
    "    average = int(sumValues/len(sent_score))\n",
    "    if sent_score[sentence] > (1.2*average):\n",
    "        summary+' '+sentence\n",
    "    \n",
    "print(summary)"
   ]
  },
  {
   "cell_type": "code",
   "execution_count": 58,
   "id": "256e7faf",
   "metadata": {},
   "outputs": [
    {
     "name": "stdout",
     "output_type": "stream",
     "text": [
      "the king then asked tenali what if he returned with the horses to which tenali said then in that case that man would be a fool. the king paid him gold coins as an advance and the trader promised that he would return with the other horses in days before leaving.  king krishnadevaraya loved horses and had a collection of some of the best breed of horses in his stable. the king loved the horse and told him that he would like all his horses. tenali then looked up and told the king that he was writing down the names of the biggest fools of the vijayanagar kingdom.\n"
     ]
    }
   ],
   "source": [
    "import heapq\n",
    "summary=heapq.nlargest(5,sent_score,key=sent_score.get)\n",
    "\n",
    "print(\" \".join(summary))"
   ]
  },
  {
   "cell_type": "code",
   "execution_count": null,
   "id": "d748c0e8",
   "metadata": {},
   "outputs": [],
   "source": []
  }
 ],
 "metadata": {
  "kernelspec": {
   "display_name": "Python 3",
   "language": "python",
   "name": "python3"
  },
  "language_info": {
   "codemirror_mode": {
    "name": "ipython",
    "version": 3
   },
   "file_extension": ".py",
   "mimetype": "text/x-python",
   "name": "python",
   "nbconvert_exporter": "python",
   "pygments_lexer": "ipython3",
   "version": "3.8.8"
  }
 },
 "nbformat": 4,
 "nbformat_minor": 5
}
